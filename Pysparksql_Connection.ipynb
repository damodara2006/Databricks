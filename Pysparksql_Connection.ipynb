{
 "cells": [
  {
   "cell_type": "code",
   "execution_count": 16,
   "id": "a721f7c0-bf23-418b-82f9-1fa77efeef73",
   "metadata": {
    "tags": []
   },
   "outputs": [],
   "source": [
    "from pyspark.sql import SparkSession"
   ]
  },
  {
   "cell_type": "code",
   "execution_count": 17,
   "id": "7475edc3-7002-4833-a29b-c57252669d05",
   "metadata": {
    "tags": []
   },
   "outputs": [
    {
     "name": "stderr",
     "output_type": "stream",
     "text": [
      "25/04/22 22:36:56 WARN SparkSession: Using an existing Spark session; only runtime SQL configurations will take effect.\n"
     ]
    }
   ],
   "source": [
    "spark = spark.builder.appName('SupaBase').config(\"spark.jars\",\"/home/pdp28/spark_jars/postgresql-42.7.5.jar\")\\\n",
    "        .getOrCreate()"
   ]
  },
  {
   "cell_type": "code",
   "execution_count": 34,
   "id": "6eb17b27-12b7-4518-aab4-8ecb661b7a7f",
   "metadata": {
    "tags": []
   },
   "outputs": [],
   "source": [
    "df = spark.read.format('jdbc')\\\n",
    ".option('url','jdbc:postgresql://aws-0-ap-south-1.pooler.supabase.com:5432/postgres')\\\n",
    ".option('password','999428@Damo')\\\n",
    ".option('user','postgres.nsezfgdhttituosvrecd')\\\n",
    ".option('driver','org.postgresql.Driver')\\\n",
    ".option('dbtable','div')\\\n",
    ".load()"
   ]
  },
  {
   "cell_type": "code",
   "execution_count": 35,
   "id": "514de385-718c-41f0-ac1e-3b87c7920a76",
   "metadata": {
    "tags": []
   },
   "outputs": [],
   "source": [
    "def display(x):\n",
    "    return x.toPandas()"
   ]
  },
  {
   "cell_type": "code",
   "execution_count": 36,
   "id": "fa7bfc8a-d772-4c9b-b5ad-24e3e6b2a785",
   "metadata": {
    "tags": []
   },
   "outputs": [
    {
     "name": "stderr",
     "output_type": "stream",
     "text": [
      "                                                                                \r"
     ]
    },
    {
     "data": {
      "text/html": [
       "<div>\n",
       "<style scoped>\n",
       "    .dataframe tbody tr th:only-of-type {\n",
       "        vertical-align: middle;\n",
       "    }\n",
       "\n",
       "    .dataframe tbody tr th {\n",
       "        vertical-align: top;\n",
       "    }\n",
       "\n",
       "    .dataframe thead th {\n",
       "        text-align: right;\n",
       "    }\n",
       "</style>\n",
       "<table border=\"1\" class=\"dataframe\">\n",
       "  <thead>\n",
       "    <tr style=\"text-align: right;\">\n",
       "      <th></th>\n",
       "      <th>id</th>\n",
       "      <th>created_at</th>\n",
       "    </tr>\n",
       "  </thead>\n",
       "  <tbody>\n",
       "  </tbody>\n",
       "</table>\n",
       "</div>"
      ],
      "text/plain": [
       "Empty DataFrame\n",
       "Columns: [id, created_at]\n",
       "Index: []"
      ]
     },
     "execution_count": 36,
     "metadata": {},
     "output_type": "execute_result"
    }
   ],
   "source": [
    "display(df)"
   ]
  },
  {
   "cell_type": "code",
   "execution_count": 89,
   "id": "0c0a41e8-70f1-40ed-b583-10916dca85ed",
   "metadata": {
    "tags": []
   },
   "outputs": [],
   "source": [
    "data = [(1,'pdp'),(2,'dk'),(3,'maha')]\n",
    "schema = ''' ID integer , Name string '''"
   ]
  },
  {
   "cell_type": "code",
   "execution_count": 90,
   "id": "464c1c34-73c5-4348-8ec1-d722e62ba161",
   "metadata": {
    "tags": []
   },
   "outputs": [],
   "source": [
    "ndf = spark.createDataFrame(data, schema)"
   ]
  },
  {
   "cell_type": "code",
   "execution_count": 91,
   "id": "57044598-007c-4fa1-b0c1-d8c2fd1f6e1e",
   "metadata": {
    "tags": []
   },
   "outputs": [
    {
     "data": {
      "text/html": [
       "<div>\n",
       "<style scoped>\n",
       "    .dataframe tbody tr th:only-of-type {\n",
       "        vertical-align: middle;\n",
       "    }\n",
       "\n",
       "    .dataframe tbody tr th {\n",
       "        vertical-align: top;\n",
       "    }\n",
       "\n",
       "    .dataframe thead th {\n",
       "        text-align: right;\n",
       "    }\n",
       "</style>\n",
       "<table border=\"1\" class=\"dataframe\">\n",
       "  <thead>\n",
       "    <tr style=\"text-align: right;\">\n",
       "      <th></th>\n",
       "      <th>ID</th>\n",
       "      <th>Name</th>\n",
       "    </tr>\n",
       "  </thead>\n",
       "  <tbody>\n",
       "    <tr>\n",
       "      <th>0</th>\n",
       "      <td>1</td>\n",
       "      <td>pdp</td>\n",
       "    </tr>\n",
       "    <tr>\n",
       "      <th>1</th>\n",
       "      <td>2</td>\n",
       "      <td>dk</td>\n",
       "    </tr>\n",
       "    <tr>\n",
       "      <th>2</th>\n",
       "      <td>3</td>\n",
       "      <td>maha</td>\n",
       "    </tr>\n",
       "  </tbody>\n",
       "</table>\n",
       "</div>"
      ],
      "text/plain": [
       "   ID  Name\n",
       "0   1   pdp\n",
       "1   2    dk\n",
       "2   3  maha"
      ]
     },
     "execution_count": 91,
     "metadata": {},
     "output_type": "execute_result"
    }
   ],
   "source": [
    "display(ndf)"
   ]
  },
  {
   "cell_type": "code",
   "execution_count": 92,
   "id": "999b3b19-75f2-4676-af36-bb7aa86018eb",
   "metadata": {
    "tags": []
   },
   "outputs": [
    {
     "name": "stderr",
     "output_type": "stream",
     "text": [
      "                                                                                \r"
     ]
    }
   ],
   "source": [
    "ndf.write.format('jdbc')\\\n",
    ".option('url','jdbc:postgresql://aws-0-ap-south-1.pooler.supabase.com:5432/postgres')\\\n",
    ".option('user','postgres.nsezfgdhttituosvrecd')\\\n",
    ".option('dbtable','newetl')\\\n",
    ".option('password','999428@Damo')\\\n",
    ".option('driver','org.postgresql.Driver')\\\n",
    ".mode('append')\\\n",
    ".save()"
   ]
  },
  {
   "cell_type": "code",
   "execution_count": null,
   "id": "cde6091d-7124-4667-81aa-baec5db99204",
   "metadata": {},
   "outputs": [],
   "source": []
  }
 ],
 "metadata": {
  "kernelspec": {
   "display_name": "Python 3 (ipykernel)",
   "language": "python",
   "name": "python3"
  },
  "language_info": {
   "codemirror_mode": {
    "name": "ipython",
    "version": 3
   },
   "file_extension": ".py",
   "mimetype": "text/x-python",
   "name": "python",
   "nbconvert_exporter": "python",
   "pygments_lexer": "ipython3",
   "version": "3.11.3"
  }
 },
 "nbformat": 4,
 "nbformat_minor": 5
}
